{
 "cells": [
  {
   "cell_type": "markdown",
   "metadata": {},
   "source": [
    "## Task 4.2\n",
    "### Take an image crop some part of both image and swap it. "
   ]
  },
  {
   "cell_type": "code",
   "execution_count": 31,
   "metadata": {},
   "outputs": [],
   "source": [
    "import cv2"
   ]
  },
  {
   "cell_type": "code",
   "execution_count": 32,
   "metadata": {},
   "outputs": [],
   "source": [
    "# reading image\n",
    "image = cv2.imread('h1.jpg')\n",
    "\n",
    "#display the image\n",
    "cv2.imshow(\"img1\", image)\n",
    "if cv2.waitKey() == 13:\n",
    "    pass\n",
    "cv2.destroyAllWindows()"
   ]
  },
  {
   "cell_type": "code",
   "execution_count": 33,
   "metadata": {},
   "outputs": [
    {
     "data": {
      "text/plain": [
       "(740, 1110, 3)"
      ]
     },
     "execution_count": 33,
     "metadata": {},
     "output_type": "execute_result"
    }
   ],
   "source": [
    "image.shape"
   ]
  },
  {
   "cell_type": "code",
   "execution_count": 34,
   "metadata": {},
   "outputs": [],
   "source": [
    "# image[row_len, col_len]\n",
    "image = cv2.imread('h1.jpg')\n",
    "mike_face = image[0:350 , 250:450]\n",
    "cv2.imshow(\"img2\", mike_face)\n",
    "if cv2.waitKey() == 13:\n",
    "    pass\n",
    "cv2.destroyAllWindows()"
   ]
  },
  {
   "cell_type": "code",
   "execution_count": 35,
   "metadata": {},
   "outputs": [
    {
     "data": {
      "text/plain": [
       "(350, 200, 3)"
      ]
     },
     "execution_count": 35,
     "metadata": {},
     "output_type": "execute_result"
    }
   ],
   "source": [
    "# shape (x,y,color)\n",
    "mike_face.shape"
   ]
  },
  {
   "cell_type": "code",
   "execution_count": 36,
   "metadata": {},
   "outputs": [],
   "source": [
    "# image[row_len, col_len]\n",
    "image = cv2.imread('h1.jpg')\n",
    "harvey_face = image[0:350 , 680:880]\n",
    "cv2.imshow(\"img2\", harvey_face)\n",
    "if cv2.waitKey() == 13:\n",
    "    pass\n",
    "cv2.destroyAllWindows()"
   ]
  },
  {
   "cell_type": "code",
   "execution_count": 37,
   "metadata": {},
   "outputs": [
    {
     "data": {
      "text/plain": [
       "(350, 200, 3)"
      ]
     },
     "execution_count": 37,
     "metadata": {},
     "output_type": "execute_result"
    }
   ],
   "source": [
    "harvey_face.shape"
   ]
  },
  {
   "cell_type": "code",
   "execution_count": 38,
   "metadata": {},
   "outputs": [],
   "source": [
    "# originl image\n",
    "image = cv2.imread('h1.jpg')\n",
    "\n",
    "#display the image\n",
    "cv2.imshow(\"img1\", image)\n",
    "cv2.waitKey()\n",
    "cv2.destroyAllWindows()"
   ]
  },
  {
   "cell_type": "code",
   "execution_count": 39,
   "metadata": {},
   "outputs": [],
   "source": [
    "# swaping the faces\n",
    "image_swap = cv2.imread('h1.jpg')\n",
    "image_swap[0:350, 250:450] = harvey_face\n",
    "image_swap[0:350 , 680:880] = mike_face\n",
    "cv2.imshow(\"img2\", image_swap)\n",
    "if cv2.waitKey() == 13:\n",
    "    pass\n",
    "cv2.destroyAllWindows()"
   ]
  },
  {
   "cell_type": "markdown",
   "metadata": {},
   "source": [
    "## Task - 4.3\n",
    "### Take 2 image and combine it to form single image. For example collage"
   ]
  },
  {
   "cell_type": "code",
   "execution_count": 40,
   "metadata": {},
   "outputs": [],
   "source": [
    "# suits image\n",
    "suits = cv2.imread('f1.jpg')\n",
    "\n",
    "#display the image\n",
    "cv2.imshow(\"img1\", suits)\n",
    "if cv2.waitKey() == 13:\n",
    "    pass\n",
    "cv2.destroyAllWindows()"
   ]
  },
  {
   "cell_type": "code",
   "execution_count": 41,
   "metadata": {},
   "outputs": [
    {
     "data": {
      "text/plain": [
       "(499, 1300, 3)"
      ]
     },
     "execution_count": 41,
     "metadata": {},
     "output_type": "execute_result"
    }
   ],
   "source": [
    "suits.shape"
   ]
  },
  {
   "cell_type": "code",
   "execution_count": 42,
   "metadata": {},
   "outputs": [],
   "source": [
    "suits_f = suits[0:400, 150:1150]\n",
    "image_f = image[0:400, 50:1050]"
   ]
  },
  {
   "cell_type": "code",
   "execution_count": 43,
   "metadata": {},
   "outputs": [],
   "source": [
    "# use numpy for vertical stacking\n",
    "# making collage\n",
    "import numpy as np\n",
    "img = np.vstack((suits_f, image_f))\n",
    "cv2.imshow(\"img3\", img)\n",
    "if cv2.waitKey() == 13:\n",
    "    pass\n",
    "cv2.destroyAllWindows()"
   ]
  },
  {
   "cell_type": "code",
   "execution_count": null,
   "metadata": {},
   "outputs": [],
   "source": []
  }
 ],
 "metadata": {
  "kernelspec": {
   "display_name": "Python 3",
   "language": "python",
   "name": "python3"
  },
  "language_info": {
   "codemirror_mode": {
    "name": "ipython",
    "version": 3
   },
   "file_extension": ".py",
   "mimetype": "text/x-python",
   "name": "python",
   "nbconvert_exporter": "python",
   "pygments_lexer": "ipython3",
   "version": "3.8.3rc1"
  }
 },
 "nbformat": 4,
 "nbformat_minor": 4
}
